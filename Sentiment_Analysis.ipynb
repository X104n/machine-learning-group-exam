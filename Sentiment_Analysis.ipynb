{
 "cells": [
  {
   "attachments": {},
   "cell_type": "markdown",
   "metadata": {},
   "source": [
    "Preprocessing part contains handling the json object and extracting only the data we will use for testing."
   ]
  },
  {
   "cell_type": "code",
   "execution_count": 4,
   "metadata": {},
   "outputs": [],
   "source": [
    "import json\n",
    "\n",
    "def data_processing(file_name) -> list:\n",
    "    message_data = []\n",
    "    with open(f'{file_name}', \"r\") as training_data:\n",
    "        train_array = json.load(training_data)\n",
    "\n",
    "        #Train_array is a array with dictionaries, each having three elements each. \n",
    "        for category in train_array:\n",
    "            #category is the index of the list with the dictionary.\n",
    "            \n",
    "            message_data.append(category[\"text\"]) \n",
    "\n",
    "    return message_data"
   ]
  },
  {
   "attachments": {},
   "cell_type": "markdown",
   "metadata": {},
   "source": [
    "After extracting only the messages i filter out the data that can affect my sentiment analysis. I do so by using nltk's stopword dictionary:"
   ]
  },
  {
   "cell_type": "code",
   "execution_count": 5,
   "metadata": {},
   "outputs": [
    {
     "ename": "NameError",
     "evalue": "name 'nltk' is not defined",
     "output_type": "error",
     "traceback": [
      "\u001B[1;31m---------------------------------------------------------------------------\u001B[0m",
      "\u001B[1;31mNameError\u001B[0m                                 Traceback (most recent call last)",
      "Cell \u001B[1;32mIn[5], line 1\u001B[0m\n\u001B[1;32m----> 1\u001B[0m dummyWords \u001B[39m=\u001B[39m nltk\u001B[39m.\u001B[39mcorpus\u001B[39m.\u001B[39mstopwords\u001B[39m.\u001B[39mwords(\u001B[39m\"\u001B[39m\u001B[39menglish\u001B[39m\u001B[39m\"\u001B[39m)\n\u001B[0;32m      2\u001B[0m messages \u001B[39m=\u001B[39m data_processing(\u001B[39m\"\u001B[39m\u001B[39mtrain.json\u001B[39m\u001B[39m\"\u001B[39m)\n\u001B[0;32m      3\u001B[0m no_stop_data \u001B[39m=\u001B[39m []\n",
      "\u001B[1;31mNameError\u001B[0m: name 'nltk' is not defined"
     ]
    }
   ],
   "source": [
    "import nltk\n",
    "dummyWords = nltk.corpus.stopwords.words(\"english\")\n",
    "messages = data_processing(\"train.json\")\n",
    "no_stop_data = []\n",
    "\n",
    "for word in messages:\n",
    "    if word.lower() not in dummyWords:\n",
    "        no_stop_data.append(word)\n"
   ]
  }
 ],
 "metadata": {
  "kernelspec": {
   "display_name": "Python 3",
   "language": "python",
   "name": "python3"
  },
  "language_info": {
   "codemirror_mode": {
    "name": "ipython",
    "version": 3
   },
   "file_extension": ".py",
   "mimetype": "text/x-python",
   "name": "python",
   "nbconvert_exporter": "python",
   "pygments_lexer": "ipython3",
   "version": "3.10.10"
  },
  "orig_nbformat": 4,
  "vscode": {
   "interpreter": {
    "hash": "d5a8d3d6fa4a8c42668baa170a0b6198815339ab86606f8fa92c48503601c5fb"
   }
  }
 },
 "nbformat": 4,
 "nbformat_minor": 2
}
